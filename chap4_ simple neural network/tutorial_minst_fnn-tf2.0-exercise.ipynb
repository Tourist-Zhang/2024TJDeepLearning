{
 "cells": [
  {
   "cell_type": "markdown",
   "metadata": {},
   "source": [
    "## 准备数据"
   ]
  },
  {
   "cell_type": "code",
   "execution_count": 1,
   "metadata": {
    "ExecuteTime": {
     "end_time": "2024-03-12T05:56:55.450173Z",
     "start_time": "2024-03-12T05:56:52.229007900Z"
    }
   },
   "outputs": [],
   "source": [
    "import os\n",
    "import numpy as np\n",
    "import tensorflow as tf\n",
    "from tensorflow.python import keras\n",
    "from tensorflow.python.keras import layers, optimizers\n",
    "from keras.datasets import mnist\n",
    "from torch import optim\n",
    "\n",
    "os.environ['TF_CPP_MIN_LOG_LEVEL'] = '2'  # or any {'0', '1', '2'}\n",
    "\n",
    "def mnist_dataset():\n",
    "    (x, y), (x_test, y_test) = mnist.load_data()\n",
    "    #normalize\n",
    "    x = x/255.0\n",
    "    x_test = x_test/255.0\n",
    "    \n",
    "    return (x, y), (x_test, y_test)"
   ]
  },
  {
   "cell_type": "code",
   "execution_count": 2,
   "metadata": {
    "ExecuteTime": {
     "end_time": "2024-03-12T05:56:55.463546900Z",
     "start_time": "2024-03-12T05:56:55.454185600Z"
    }
   },
   "outputs": [
    {
     "name": "stdout",
     "output_type": "stream",
     "text": [
      "[(1, 'a'), (2, 'b'), (3, 'c'), (4, 'd')]\n"
     ]
    }
   ],
   "source": [
    "print(list(zip([1, 2, 3, 4], ['a', 'b', 'c', 'd'])))"
   ]
  },
  {
   "cell_type": "markdown",
   "source": [
    "## 构建全连接层"
   ],
   "metadata": {
    "collapsed": false
   }
  },
  {
   "cell_type": "code",
   "execution_count": 3,
   "outputs": [],
   "source": [
    "class FullConnectionLayer:\n",
    "    def __init__(self):\n",
    "        self.mem = {}\n",
    "    def forward(self, X, W):\n",
    "        \"\"\"\n",
    "        :param X: shape(m,d),前向传播输入矩阵\n",
    "        :param W: shape(d,d'),前向传播权重矩阵\n",
    "        :return: 前向传播输出矩阵\n",
    "        \"\"\"\n",
    "        self.mem['X'] = X\n",
    "        self.mem['W'] = W\n",
    "        H = np.matmul(X, W)\n",
    "        return H\n",
    "    def backward(self, grad_H):\n",
    "        \"\"\"\n",
    "        :param grad_H: shape(m,d'),Loss关于 H 的梯度\n",
    "        :return: grad_X: shape(m,d),Loss关于 X 的梯度\n",
    "                 grad_W: shape(d,d'),Loss关于 W 的梯度\n",
    "        \"\"\"\n",
    "        X = self.mem['X']\n",
    "        W = self.mem['W']\n",
    "        grad_X = np.matmul(grad_H, W.T)\n",
    "        grad_W = np.matmul(X.T, grad_H)\n",
    "        return grad_X, grad_W\n",
    "            "
   ],
   "metadata": {
    "collapsed": false,
    "ExecuteTime": {
     "end_time": "2024-03-12T05:56:55.504944600Z",
     "start_time": "2024-03-12T05:56:55.463546900Z"
    }
   }
  },
  {
   "cell_type": "markdown",
   "source": [
    "## 实现激活函数"
   ],
   "metadata": {
    "collapsed": false
   }
  },
  {
   "cell_type": "code",
   "execution_count": 4,
   "outputs": [],
   "source": [
    "class Relu:\n",
    "    def __init__(self):\n",
    "        self.mem = {}\n",
    "        \n",
    "    def forward(self, x):\n",
    "        self.mem['x']=x\n",
    "        return np.where(x > 0, x, np.zeros_like(x))\n",
    "    \n",
    "    def backward(self, grad_y):\n",
    "        grad_x = np.where(self.mem['x']>0, grad_y, np.zeros_like(grad_y))\n",
    "        return grad_x\n",
    "    \n",
    "    \n",
    "class Sigmoid:\n",
    "    def __init__(self):\n",
    "        self.mem = {}\n",
    "        \n",
    "    def forward(self, x):\n",
    "        self.mem['x'] = x\n",
    "        return 1 / (1 + np.exp(-x))\n",
    "    \n",
    "    def backward(self, grad_y):\n",
    "        x = self.mem['x']\n",
    "        grad_x = grad_y * (self.forward(x) * (1 - self.forward(x)))\n",
    "        return grad_x\n",
    "\n",
    "\n",
    "class Softmax:\n",
    "    def __init__(self):\n",
    "        self.epsilon = 1e-12\n",
    "        self.mem = {}\n",
    "        \n",
    "    def forward(self, x):\n",
    "        x_exp = np.exp(x)\n",
    "        partition = np.sum(x_exp, axis=1, keepdims=True)\n",
    "        out = x_exp/(partition+self.epsilon)\n",
    "        \n",
    "        self.mem['out'] = out\n",
    "        self.mem['x_exp'] = x_exp\n",
    "        return out\n",
    "    \n",
    "    def backward(self, grad_y):\n",
    "        s = self.mem['out']\n",
    "        sisj = np.matmul(np.expand_dims(s,axis=2), np.expand_dims(s, axis=1)) # (N, c, c)\n",
    "        g_y_exp = np.expand_dims(grad_y, axis=1)\n",
    "        tmp = np.matmul(g_y_exp, sisj) #(N, 1, c)\n",
    "        tmp = np.squeeze(tmp, axis=1)\n",
    "        tmp = -tmp+grad_y*s \n",
    "        return tmp\n",
    "    \n",
    "    \n",
    "class CrossEntropy():\n",
    "    def __init__(self):\n",
    "        self.mem = {}\n",
    "        self.epsilon = 1e-12  # 防止求导后分母为 0\n",
    "\n",
    "    def forward(self, p, y):\n",
    "        self.mem['p'] = p\n",
    "        log_p = np.log(p + self.epsilon)\n",
    "        return np.mean(np.sum(-y * log_p, axis=1))\n",
    "\n",
    "    def backward(self, y):\n",
    "        p = self.mem['p']\n",
    "        return -y * (1 / (p + self.epsilon))"
   ],
   "metadata": {
    "collapsed": false,
    "ExecuteTime": {
     "end_time": "2024-03-12T05:56:55.509463500Z",
     "start_time": "2024-03-12T05:56:55.479633200Z"
    }
   }
  },
  {
   "cell_type": "markdown",
   "metadata": {},
   "source": [
    "## 建立模型"
   ]
  },
  {
   "cell_type": "code",
   "execution_count": 15,
   "metadata": {
    "ExecuteTime": {
     "end_time": "2024-03-12T06:05:05.228641600Z",
     "start_time": "2024-03-12T06:05:05.212075700Z"
    }
   },
   "outputs": [],
   "source": [
    "class myModel:\n",
    "    def __init__(self):\n",
    "        self.W1 = np.random.normal(size=[28*28+1, 100])\n",
    "        self.W2 = np.random.normal(size=[100, 10])\n",
    "        \n",
    "        self.mul_h1 = FullConnectionLayer()\n",
    "        self.mul_h2 = FullConnectionLayer()\n",
    "        self.relu = Relu()\n",
    "        self.softmax = Softmax()\n",
    "        self.cross_en = CrossEntropy()\n",
    "        self.sigmoid = Sigmoid()\n",
    "        \n",
    "    def forward(self, x, label):\n",
    "        x = x.reshape(-1, 28*28)\n",
    "        bias = np.ones(shape=[x.shape[0], 1])\n",
    "        x = np.concatenate([x, bias], axis=1)\n",
    "        self.h1 = self.mul_h1.forward(x, self.W1)\n",
    "        self.h1_sig = self.sigmoid.forward(self.h1)\n",
    "        self.h2 = self.mul_h2.forward(self.h1_sig, self.W2)\n",
    "        self.h2_soft = self.softmax.forward(self.h2)\n",
    "        self.loss = self.cross_en.forward(self.h2_soft, label)\n",
    "        \n",
    "    def backward(self, label):\n",
    "        self.loss_grad = self.cross_en.backward(label)\n",
    "        self.h2_soft_grad = self.softmax.backward(self.loss_grad)\n",
    "        self.h2_grad, self.W2_grad = self.mul_h2.backward(self.h2_soft_grad)\n",
    "        self.h1_sig_grad = self.sigmoid.backward(self.h2_grad)\n",
    "        self.h1_grad, self.W1_grad = self.mul_h1.backward(self.h1_sig_grad)\n",
    "    \n",
    "model = myModel()\n",
    "\n",
    "# optimizer = optimizers.Adam()\n",
    "optimizer = optim.Adam\n"
   ]
  },
  {
   "cell_type": "markdown",
   "metadata": {},
   "source": [
    "## 计算 loss"
   ]
  },
  {
   "cell_type": "code",
   "execution_count": 16,
   "outputs": [],
   "source": [
    "def compute_accuracy(prob, labels):\n",
    "    predictions = np.argmax(prob, axis=1)\n",
    "    truth = np.argmax(labels, axis=1)\n",
    "    return np.mean(predictions==truth)\n",
    "\n",
    "def train_one_step(model, x, y):\n",
    "    model.forward(x, y)\n",
    "    model.backward(y)\n",
    "    model.W1 -= 1e-5* model.W1_grad\n",
    "    model.W2 -= 1e-5* model.W2_grad\n",
    "    loss = model.loss\n",
    "    accuracy = compute_accuracy(model.h2_soft, y)\n",
    "    return loss, accuracy\n",
    "\n",
    "def test(model, x, y):\n",
    "    model.forward(x, y)\n",
    "    loss = model.loss\n",
    "    accuracy = compute_accuracy(model.h2_soft, y)\n",
    "    return loss, accuracy"
   ],
   "metadata": {
    "collapsed": false,
    "ExecuteTime": {
     "end_time": "2024-03-12T06:05:05.980969100Z",
     "start_time": "2024-03-12T06:05:05.972802Z"
    }
   }
  },
  {
   "cell_type": "markdown",
   "metadata": {},
   "source": [
    "## 实际训练"
   ]
  },
  {
   "cell_type": "code",
   "execution_count": 18,
   "metadata": {
    "ExecuteTime": {
     "end_time": "2024-03-12T06:05:43.758452200Z",
     "start_time": "2024-03-12T06:05:07.443635200Z"
    }
   },
   "outputs": [
    {
     "name": "stdout",
     "output_type": "stream",
     "text": [
      "epoch 0 : loss 8.09721174344117 ; accuracy 0.09778333333333333\n",
      "epoch 1 : loss 6.659444934769633 ; accuracy 0.08828333333333334\n",
      "epoch 2 : loss 5.962645124005233 ; accuracy 0.11105\n",
      "epoch 3 : loss 5.527197651314062 ; accuracy 0.12231666666666667\n",
      "epoch 4 : loss 5.1324274000737775 ; accuracy 0.13683333333333333\n",
      "epoch 5 : loss 4.769154613241772 ; accuracy 0.15478333333333333\n",
      "epoch 6 : loss 4.437422904564867 ; accuracy 0.1743\n",
      "epoch 7 : loss 4.136701414758591 ; accuracy 0.1936\n",
      "epoch 8 : loss 3.865710007068367 ; accuracy 0.21511666666666668\n",
      "epoch 9 : loss 3.6226485227616685 ; accuracy 0.23751666666666665\n",
      "epoch 10 : loss 3.4053944506301916 ; accuracy 0.2598\n",
      "epoch 11 : loss 3.211614042195719 ; accuracy 0.283\n",
      "epoch 12 : loss 3.0389000795509022 ; accuracy 0.3038666666666667\n",
      "epoch 13 : loss 2.8849095241030294 ; accuracy 0.3249666666666667\n",
      "epoch 14 : loss 2.747432689842433 ; accuracy 0.34578333333333333\n",
      "epoch 15 : loss 2.6244175523891538 ; accuracy 0.36493333333333333\n",
      "epoch 16 : loss 2.5140000973966012 ; accuracy 0.3826833333333333\n",
      "epoch 17 : loss 2.414530092832612 ; accuracy 0.3990166666666667\n",
      "epoch 18 : loss 2.324573677025544 ; accuracy 0.4147\n",
      "epoch 19 : loss 2.242897074195092 ; accuracy 0.42956666666666665\n",
      "epoch 20 : loss 2.16844412637545 ; accuracy 0.4433666666666667\n",
      "epoch 21 : loss 2.1003139554155643 ; accuracy 0.45621666666666666\n",
      "epoch 22 : loss 2.0377393072888 ; accuracy 0.4686\n",
      "epoch 23 : loss 1.98006590551572 ; accuracy 0.4795333333333333\n",
      "epoch 24 : loss 1.9267340682411624 ; accuracy 0.4905833333333333\n",
      "epoch 25 : loss 1.877263276252795 ; accuracy 0.5005166666666667\n",
      "epoch 26 : loss 1.831239453365682 ; accuracy 0.5107333333333334\n",
      "epoch 27 : loss 1.7883044407040638 ; accuracy 0.5199333333333334\n",
      "epoch 28 : loss 1.7481472632984492 ; accuracy 0.5284166666666666\n",
      "epoch 29 : loss 1.7104968961133542 ; accuracy 0.53775\n",
      "epoch 30 : loss 1.6751162713516925 ; accuracy 0.5463\n",
      "epoch 31 : loss 1.6417972940042007 ; accuracy 0.5535833333333333\n",
      "epoch 32 : loss 1.610356672140871 ; accuracy 0.56025\n",
      "epoch 33 : loss 1.5806324115424994 ; accuracy 0.5667333333333333\n",
      "epoch 34 : loss 1.5524808595736694 ; accuracy 0.5736166666666667\n",
      "epoch 35 : loss 1.5257742078803238 ; accuracy 0.5797\n",
      "epoch 36 : loss 1.5003983799161946 ; accuracy 0.5862333333333334\n",
      "epoch 37 : loss 1.476251240920146 ; accuracy 0.5917333333333333\n",
      "epoch 38 : loss 1.4532410772870692 ; accuracy 0.59695\n",
      "epoch 39 : loss 1.4312853004808685 ; accuracy 0.6018166666666667\n",
      "epoch 40 : loss 1.4103093380190752 ; accuracy 0.6066333333333334\n",
      "epoch 41 : loss 1.3902456805675172 ; accuracy 0.6117333333333334\n",
      "epoch 42 : loss 1.371033059771084 ; accuracy 0.6162833333333333\n",
      "epoch 43 : loss 1.3526157361425715 ; accuracy 0.6204666666666667\n",
      "epoch 44 : loss 1.3349428802058356 ; accuracy 0.6249666666666667\n",
      "epoch 45 : loss 1.3179680332155446 ; accuracy 0.6293333333333333\n",
      "epoch 46 : loss 1.301648636230222 ; accuracy 0.6334333333333333\n",
      "epoch 47 : loss 1.2859456181929445 ; accuracy 0.6373333333333333\n",
      "epoch 48 : loss 1.2708230350940681 ; accuracy 0.64115\n",
      "epoch 49 : loss 1.2562477533847574 ; accuracy 0.6450166666666667\n",
      "test loss 1.1821496569143224 ; accuracy 0.6601\n"
     ]
    }
   ],
   "source": [
    "train_data, test_data = mnist_dataset()\n",
    "train_label = np.zeros(shape=[train_data[0].shape[0], 10])\n",
    "test_label = np.zeros(shape=[test_data[0].shape[0], 10])\n",
    "train_label[np.arange(train_data[0].shape[0]), np.array(train_data[1])] = 1.\n",
    "test_label[np.arange(test_data[0].shape[0]), np.array(test_data[1])] = 1.\n",
    "\n",
    "for epoch in range(50):\n",
    "    loss, accuracy = train_one_step(model, train_data[0], train_label)\n",
    "    print('epoch', epoch, ': loss', loss, '; accuracy', accuracy)\n",
    "loss, accuracy = test(model, test_data[0], test_label)\n",
    "\n",
    "print('test loss', loss, '; accuracy', accuracy)"
   ]
  },
  {
   "cell_type": "code",
   "execution_count": null,
   "outputs": [],
   "source": [],
   "metadata": {
    "collapsed": false,
    "ExecuteTime": {
     "start_time": "2024-03-12T05:56:56.472598100Z"
    }
   }
  }
 ],
 "metadata": {
  "kernelspec": {
   "display_name": "Python 3",
   "language": "python",
   "name": "python3"
  },
  "language_info": {
   "codemirror_mode": {
    "name": "ipython",
    "version": 3
   },
   "file_extension": ".py",
   "mimetype": "text/x-python",
   "name": "python",
   "nbconvert_exporter": "python",
   "pygments_lexer": "ipython3",
   "version": "3.7.0"
  }
 },
 "nbformat": 4,
 "nbformat_minor": 2
}
