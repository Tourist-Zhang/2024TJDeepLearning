{
 "cells": [
  {
   "cell_type": "markdown",
   "source": [
    "## 1. 准备数据"
   ],
   "metadata": {
    "collapsed": false
   },
   "id": "1b76213990e33ecb"
  },
  {
   "cell_type": "code",
   "execution_count": 1,
   "id": "initial_id",
   "metadata": {
    "collapsed": true,
    "ExecuteTime": {
     "end_time": "2024-03-20T08:18:32.995889100Z",
     "start_time": "2024-03-20T08:18:31.483239800Z"
    }
   },
   "outputs": [],
   "source": [
    "import os\n",
    "import tensorflow as tf\n",
    "from tensorflow import keras\n",
    "from tensorflow.keras import layers, optimizers, datasets\n",
    "from tensorflow.keras.layers import Dense, Dropout, Flatten\n",
    "from tensorflow.keras.layers import Conv2D, MaxPooling2D\n",
    "\n",
    "os.environ['TF_CPP_MIN_LOG_LEVEL'] = '2'  # or any {'0', '1', '2'}\n",
    "\n",
    "def mnist_dataset():\n",
    "    (x, y), (x_test, y_test) = datasets.mnist.load_data()\n",
    "    x = x.reshape(x.shape[0], 28, 28,1)\n",
    "    x_test = x_test.reshape(x_test.shape[0], 28, 28,1)\n",
    "    \n",
    "    ds = tf.data.Dataset.from_tensor_slices((x, y))\n",
    "    ds = ds.map(prepare_mnist_features_and_labels)\n",
    "    # Take 20000 samples and randomly shuffle them into multiple batches of size 32\n",
    "    ds = ds.take(20000).shuffle(20000).batch(32)\n",
    "    \n",
    "    test_ds = tf.data.Dataset.from_tensor_slices((x_test, y_test))\n",
    "    test_ds = test_ds.map(prepare_mnist_features_and_labels)\n",
    "    # Take 20000 samples and randomly shuffle them into batches of size 20000\n",
    "    test_ds = test_ds.take(20000).shuffle(20000).batch(20000)\n",
    "    return ds, test_ds\n",
    "\n",
    "# Normalize data\n",
    "def prepare_mnist_features_and_labels(x, y):\n",
    "    x = tf.cast(x, tf.float32) / 255.0\n",
    "    y = tf.cast(y, tf.int64)\n",
    "    return x, y"
   ]
  },
  {
   "cell_type": "markdown",
   "source": [
    "## 2. 建立模型"
   ],
   "metadata": {
    "collapsed": false
   },
   "id": "49144b981a92f507"
  },
  {
   "cell_type": "code",
   "execution_count": 7,
   "outputs": [],
   "source": [
    "class myConvModel(keras.Model):\n",
    "    def __init__(self):\n",
    "        super(myConvModel, self).__init__()\n",
    "        # 32 filters, size 5x5, ReLU activation function, and 'same' padding\n",
    "        self.l1_conv = Conv2D(filters=32,\n",
    "                              kernel_size=(5, 5),\n",
    "                              activation='relu',\n",
    "                              padding='same')\n",
    "        # 64 filters, size 5x5, ReLU activation function, and 'same' padding\n",
    "        self.l2_conv = Conv2D(filters=64,\n",
    "                              kernel_size=(5, 5),\n",
    "                              activation='relu',\n",
    "                              padding='same')\n",
    "        # pool size 2x2, stride 2\n",
    "        self.pool = MaxPooling2D(pool_size=(2, 2), strides=2)\n",
    "        \n",
    "        self.flat = Flatten()\n",
    "        self.dense1 = layers.Dense(100, activation='tanh')\n",
    "        self.dense2 = layers.Dense(10)\n",
    "\n",
    "    def call(self, x):\n",
    "        h1 = self.l1_conv(x) \n",
    "        h1_pool = self.pool(h1) \n",
    "        h2 = self.l2_conv(h1_pool)\n",
    "        h2_pool = self.pool(h2) \n",
    "        flat_h = self.flat(h2_pool)\n",
    "        dense1 = self.dense1(flat_h)\n",
    "        logits = self.dense2(dense1)\n",
    "        probs = tf.nn.softmax(logits, axis=-1)\n",
    "        return probs\n",
    "    \n",
    "model = myConvModel()\n",
    "optimizer = optimizers.Adam(0.001)"
   ],
   "metadata": {
    "collapsed": false,
    "ExecuteTime": {
     "end_time": "2024-03-20T09:12:21.623966800Z",
     "start_time": "2024-03-20T09:12:21.613709200Z"
    }
   },
   "id": "b9d7baf36387d60e"
  },
  {
   "cell_type": "markdown",
   "source": [
    "## 3. 定义loss以及train loop"
   ],
   "metadata": {
    "collapsed": false
   },
   "id": "a168091ca575f7a2"
  },
  {
   "cell_type": "code",
   "execution_count": 3,
   "outputs": [],
   "source": [
    "def compute_loss(logits, labels):\n",
    "    return tf.reduce_mean(\n",
    "        tf.nn.sparse_softmax_cross_entropy_with_logits(\n",
    "            logits=logits, labels=labels))\n",
    "\n",
    "def compute_accuracy(logits, labels):\n",
    "    predictions = tf.argmax(logits, axis=1)\n",
    "    return tf.reduce_mean(tf.cast(tf.equal(predictions, labels), tf.float32))\n",
    "\n",
    "def train_one_step(model, optimizer, x, y):\n",
    "\n",
    "    with tf.GradientTape() as tape:\n",
    "        logits = model(x)\n",
    "        loss = compute_loss(logits, y)\n",
    "\n",
    "    # compute gradient\n",
    "    grads = tape.gradient(loss, model.trainable_variables)\n",
    "    # update to weights\n",
    "    optimizer.apply_gradients(zip(grads, model.trainable_variables))\n",
    "\n",
    "    accuracy = compute_accuracy(logits, y)\n",
    "\n",
    "    # loss and accuracy is scalar tensor\n",
    "    return loss, accuracy\n",
    "\n",
    "def test_step(model, x, y):\n",
    "    logits = model(x)\n",
    "    loss = compute_loss(logits, y)\n",
    "    accuracy = compute_accuracy(logits, y)\n",
    "    return loss, accuracy\n",
    "\n",
    "def train(epoch, model, optimizer, ds):\n",
    "    loss = 0.0\n",
    "    accuracy = 0.0\n",
    "    for step, (x, y) in enumerate(ds):\n",
    "        loss, accuracy = train_one_step(model, optimizer, x, y)\n",
    "\n",
    "        if step % 500 == 0:\n",
    "            print('epoch', epoch, ': loss', loss.numpy(), '; accuracy', accuracy.numpy())\n",
    "\n",
    "    return loss, accuracy\n",
    "def test(model, ds):\n",
    "    loss = 0.0\n",
    "    accuracy = 0.0\n",
    "    for step, (x, y) in enumerate(ds):\n",
    "        loss, accuracy = test_step(model, x, y)\n",
    "\n",
    "        \n",
    "    print('test loss', loss.numpy(), '; accuracy', accuracy.numpy())\n",
    "\n",
    "    return loss, accuracy"
   ],
   "metadata": {
    "collapsed": false,
    "ExecuteTime": {
     "end_time": "2024-03-20T08:18:33.027257600Z",
     "start_time": "2024-03-20T08:18:33.011592500Z"
    }
   },
   "id": "9fa749de3f82463d"
  },
  {
   "cell_type": "code",
   "execution_count": 4,
   "outputs": [
    {
     "name": "stdout",
     "output_type": "stream",
     "text": [
      "epoch 0 : loss 2.30187 ; accuracy 0.15625\n",
      "epoch 0 : loss 1.4654369 ; accuracy 1.0\n",
      "epoch 1 : loss 1.5232987 ; accuracy 0.9375\n",
      "epoch 1 : loss 1.5188589 ; accuracy 0.9375\n",
      "test loss 1.4793775 ; accuracy 0.984\n"
     ]
    }
   ],
   "source": [
    "train_ds, test_ds = mnist_dataset()\n",
    "for epoch in range(2):\n",
    "    loss, accuracy = train(epoch, model, optimizer, train_ds)\n",
    "loss, accuracy = test(model, test_ds)"
   ],
   "metadata": {
    "collapsed": false,
    "ExecuteTime": {
     "end_time": "2024-03-20T08:19:50.797206800Z",
     "start_time": "2024-03-20T08:18:33.027257600Z"
    }
   },
   "id": "84fd738ff21e110e"
  },
  {
   "cell_type": "code",
   "execution_count": 5,
   "outputs": [
    {
     "name": "stdout",
     "output_type": "stream",
     "text": [
      "Epoch 1/5\n",
      "625/625 [==============================] - 21s 33ms/step - loss: 0.1554 - accuracy: 0.9524\n",
      "Epoch 2/5\n",
      "625/625 [==============================] - 19s 31ms/step - loss: 0.0412 - accuracy: 0.9876\n",
      "Epoch 3/5\n",
      "625/625 [==============================] - 20s 32ms/step - loss: 0.0231 - accuracy: 0.9936\n",
      "Epoch 4/5\n",
      "625/625 [==============================] - 20s 32ms/step - loss: 0.0119 - accuracy: 0.9965\n",
      "Epoch 5/5\n",
      "625/625 [==============================] - 20s 32ms/step - loss: 0.0085 - accuracy: 0.9977\n",
      "1/1 [==============================] - 3s 3s/step - loss: 0.0342 - accuracy: 0.9886\n"
     ]
    },
    {
     "data": {
      "text/plain": "[0.03416329249739647, 0.9886]"
     },
     "execution_count": 5,
     "metadata": {},
     "output_type": "execute_result"
    }
   ],
   "source": [
    "model2 = myConvModel()\n",
    "model2.compile(optimizer=optimizer,\n",
    "              loss='sparse_categorical_crossentropy',\n",
    "              metrics=['accuracy'])\n",
    "train_ds, test_ds = mnist_dataset()\n",
    "model2.fit(train_ds, epochs=5)\n",
    "model2.evaluate(test_ds)"
   ],
   "metadata": {
    "collapsed": false,
    "ExecuteTime": {
     "end_time": "2024-03-20T08:21:34.139182700Z",
     "start_time": "2024-03-20T08:19:50.797206800Z"
    }
   },
   "id": "ccdbbdeae475b591"
  },
  {
   "cell_type": "code",
   "execution_count": 6,
   "outputs": [
    {
     "name": "stdout",
     "output_type": "stream",
     "text": [
      "Epoch 1/5\n",
      "625/625 [==============================] - 20s 32ms/step - loss: 0.5128 - accuracy: 0.8683\n",
      "Epoch 2/5\n",
      "625/625 [==============================] - 19s 31ms/step - loss: 0.1456 - accuracy: 0.9595\n",
      "Epoch 3/5\n",
      "625/625 [==============================] - 19s 30ms/step - loss: 0.0966 - accuracy: 0.9718\n",
      "Epoch 4/5\n",
      "625/625 [==============================] - 19s 30ms/step - loss: 0.0747 - accuracy: 0.9776\n",
      "Epoch 5/5\n",
      "625/625 [==============================] - 19s 31ms/step - loss: 0.0603 - accuracy: 0.9814\n",
      "1/1 [==============================] - 3s 3s/step - loss: 0.0576 - accuracy: 0.9821\n"
     ]
    },
    {
     "data": {
      "text/plain": "[0.05759537220001221, 0.9821]"
     },
     "execution_count": 6,
     "metadata": {},
     "output_type": "execute_result"
    }
   ],
   "source": [
    "model3 = keras.Sequential([\n",
    "    Conv2D(32, (5, 5), activation='relu', padding='same'),\n",
    "    MaxPooling2D(pool_size=2, strides=2),\n",
    "    Conv2D(64, (5, 5), activation='relu', padding='same'),\n",
    "    MaxPooling2D(pool_size=2, strides=2),\n",
    "    Flatten(), #N*7*7*64 =>N*3136\n",
    "    layers.Dense(128, activation='tanh'), #N*128\n",
    "    layers.Dense(10, activation='softmax')]) #N*10\n",
    "optimizer = optimizers.Adam(0.0001)\n",
    "\n",
    "model3.compile(optimizer=optimizer,\n",
    "              loss='sparse_categorical_crossentropy',\n",
    "              metrics=['accuracy'])\n",
    "train_ds, test_ds = mnist_dataset()\n",
    "model3.fit(train_ds, epochs=5)\n",
    "model3.evaluate(test_ds)"
   ],
   "metadata": {
    "collapsed": false,
    "ExecuteTime": {
     "end_time": "2024-03-20T08:26:33.833644900Z",
     "start_time": "2024-03-20T08:24:53.211751300Z"
    }
   },
   "id": "5b9f3ee97c662895"
  },
  {
   "cell_type": "code",
   "execution_count": null,
   "outputs": [],
   "source": [],
   "metadata": {
    "collapsed": false
   },
   "id": "b263034a109c3ccc"
  }
 ],
 "metadata": {
  "kernelspec": {
   "display_name": "Python 3",
   "language": "python",
   "name": "python3"
  },
  "language_info": {
   "codemirror_mode": {
    "name": "ipython",
    "version": 2
   },
   "file_extension": ".py",
   "mimetype": "text/x-python",
   "name": "python",
   "nbconvert_exporter": "python",
   "pygments_lexer": "ipython2",
   "version": "2.7.6"
  }
 },
 "nbformat": 4,
 "nbformat_minor": 5
}
