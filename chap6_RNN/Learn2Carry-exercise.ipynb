{
 "cells": [
  {
   "cell_type": "markdown",
   "metadata": {},
   "source": [
    "# 加法进位实验\n"
   ]
  },
  {
   "cell_type": "markdown",
   "metadata": {},
   "source": [
    "<img src=\"https://github.com/JerrikEph/jerrikeph.github.io/raw/master/Learn2Carry.png\" width=650>"
   ]
  },
  {
   "cell_type": "code",
   "execution_count": 1,
   "metadata": {
    "scrolled": true,
    "ExecuteTime": {
     "end_time": "2024-03-26T12:40:20.650588300Z",
     "start_time": "2024-03-26T12:40:19.209633100Z"
    }
   },
   "outputs": [],
   "source": [
    "import numpy as np\n",
    "import tensorflow as tf\n",
    "import collections\n",
    "from tensorflow import keras\n",
    "from tensorflow.keras import layers\n",
    "from tensorflow.keras import layers, optimizers, datasets\n",
    "import os,sys,tqdm"
   ]
  },
  {
   "cell_type": "markdown",
   "metadata": {},
   "source": [
    "## 数据生成\n",
    "我们随机在 `start->end`之间采样除整数对`(num1, num2)`，计算结果`num1+num2`作为监督信号。\n",
    "\n",
    "* 首先将数字转换成数字位列表 `convertNum2Digits`\n",
    "* 将数字位列表反向\n",
    "* 将数字位列表填充到同样的长度 `pad2len`\n"
   ]
  },
  {
   "cell_type": "code",
   "execution_count": 2,
   "metadata": {
    "ExecuteTime": {
     "end_time": "2024-03-26T12:40:21.558902200Z",
     "start_time": "2024-03-26T12:40:21.527564600Z"
    }
   },
   "outputs": [],
   "source": [
    "def gen_data_batch(batch_size, start, end):\n",
    "    '''在(start, end)区间采样生成一个batch的整型的数据\n",
    "    Args :\n",
    "        batch_size: batch_size\n",
    "        start: 开始数值\n",
    "        end: 结束数值\n",
    "    '''\n",
    "    numbers_1 = np.random.randint(start, end, batch_size)\n",
    "    numbers_2 = np.random.randint(start, end, batch_size)\n",
    "    results = numbers_1 + numbers_2\n",
    "    return numbers_1, numbers_2, results\n",
    "\n",
    "def convertNum2Digits(Num):\n",
    "    '''将一个整数转换成一个数字位的列表,例如 133412 ==> [1, 3, 3, 4, 1, 2]\n",
    "    '''\n",
    "    strNum = str(Num)\n",
    "    chNums = list(strNum)\n",
    "    digitNums = [int(o) for o in strNum]\n",
    "    return digitNums\n",
    "\n",
    "def convertDigits2Num(Digits):\n",
    "    '''将数字位列表反向， 例如 [1, 3, 3, 4, 1, 2] ==> [2, 1, 4, 3, 3, 1]\n",
    "    '''\n",
    "    digitStrs = [str(o) for o in Digits]\n",
    "    numStr = ''.join(digitStrs)\n",
    "    Num = int(numStr)\n",
    "    return Num\n",
    "\n",
    "def pad2len(lst, length, pad=0):\n",
    "    '''将一个列表用`pad`填充到`length`的长度 例如 pad2len([1, 3, 2, 3], 6, pad=0) ==> [1, 3, 2, 3, 0, 0]\n",
    "    '''\n",
    "    lst+=[pad]*(length - len(lst))\n",
    "    return lst\n",
    "\n",
    "def results_converter(res_lst):\n",
    "    '''将预测好的数字位列表批量转换成为原始整数\n",
    "    Args:\n",
    "        res_lst: shape(b_sz, len(digits))\n",
    "    '''\n",
    "    res = [reversed(digits) for digits in res_lst]\n",
    "    return [convertDigits2Num(digits) for digits in res]\n",
    "\n",
    "def prepare_batch(Nums1, Nums2, results, maxlen):\n",
    "    '''准备一个batch的数据，将数值转换成反转的数位列表并且填充到固定长度\n",
    "    Args:\n",
    "        Nums1: shape(batch_size,)\n",
    "        Nums2: shape(batch_size,)\n",
    "        results: shape(batch_size,)\n",
    "        maxlen:  type(int)\n",
    "    Returns:\n",
    "        Nums1: shape(batch_size, maxlen)\n",
    "        Nums2: shape(batch_size, maxlen)\n",
    "        results: shape(batch_size, maxlen)\n",
    "    '''\n",
    "    Nums1 = [convertNum2Digits(o) for o in Nums1]\n",
    "    Nums2 = [convertNum2Digits(o) for o in Nums2]\n",
    "    results = [convertNum2Digits(o) for o in results]\n",
    "    \n",
    "    Nums1 = [list(reversed(o)) for o in Nums1]\n",
    "    Nums2 = [list(reversed(o)) for o in Nums2]\n",
    "    results = [list(reversed(o)) for o in results]\n",
    "    \n",
    "    Nums1 = [pad2len(o, maxlen) for o in Nums1]\n",
    "    Nums2 = [pad2len(o, maxlen) for o in Nums2]\n",
    "    results = [pad2len(o, maxlen) for o in results]\n",
    "    \n",
    "    return Nums1, Nums2, results"
   ]
  },
  {
   "cell_type": "markdown",
   "metadata": {},
   "source": [
    "# 建模过程， 按照图示完成建模"
   ]
  },
  {
   "cell_type": "code",
   "execution_count": 3,
   "metadata": {
    "ExecuteTime": {
     "end_time": "2024-03-26T12:40:29.851637100Z",
     "start_time": "2024-03-26T12:40:29.841553500Z"
    }
   },
   "outputs": [],
   "source": [
    "class myRNNModel(keras.Model):\n",
    "    def __init__(self):\n",
    "        super(myRNNModel, self).__init__()\n",
    "        self.embed_layer = tf.keras.layers.Embedding(10, 32, \n",
    "                                                    batch_input_shape=[None, None])\n",
    "        \n",
    "        self.rnncell = tf.keras.layers.SimpleRNNCell(64)\n",
    "        self.rnn_layer = tf.keras.layers.RNN(self.rnncell, return_sequences=True)\n",
    "        self.dense = tf.keras.layers.Dense(10)\n",
    "        \n",
    "    @tf.function\n",
    "    def call(self, num1, num2):\n",
    "        '''\n",
    "        此处完成上述图中模型\n",
    "        '''\n",
    "        \n",
    "        result = tf.zeros_like(num1)  # 初始化一个与num1形状相同且元素为0的张量result\n",
    "        carry = tf.zeros([num1.shape[0]], dtype=tf.int32)  # 初始化一个形状为(batch_size,)且元素为0的张量carry，用于存储进位信息\n",
    "        for i in range(num1.shape[1]):\n",
    "            # 计算num1和num2对应位置的元素以及上一位的进位之和\n",
    "            sum_with_carry = num1[:, i:i+1] + num2[:, i:i+1] + carry\n",
    "            # 在result张量中更新对应位置的元素值为和的个位数（对10取模）\n",
    "            result = tf.tensor_scatter_nd_update(\n",
    "                result,\n",
    "                indices=[[j, i] for j in range(num1.shape[0])],  # 要更新的行索引\n",
    "                updates=sum_with_carry[:, 0] % 10  # 更新为和的个位数\n",
    "            )\n",
    "            # 更新carry张量，用于下一位的进位计算（整数除法）\n",
    "            carry = sum_with_carry // 10\n",
    "            \n",
    "        \n",
    "        x = result  \n",
    "        \n",
    "        x = self.embed_layer(x)\n",
    "        x = self.rnn_layer(x)\n",
    "        logits = self.dense(x)\n",
    "        return logits"
   ]
  },
  {
   "cell_type": "code",
   "execution_count": 4,
   "outputs": [],
   "source": [
    "@tf.function\n",
    "def compute_loss(logits, labels):\n",
    "    losses = tf.nn.sparse_softmax_cross_entropy_with_logits(\n",
    "            logits=logits, labels=labels)\n",
    "    return tf.reduce_mean(losses)\n",
    "\n",
    "@tf.function\n",
    "def train_one_step(model, optimizer, x, y, label):\n",
    "    with tf.GradientTape() as tape:\n",
    "        logits = model(x, y)\n",
    "        loss = compute_loss(logits, label)\n",
    "\n",
    "    # compute gradient\n",
    "    grads = tape.gradient(loss, model.trainable_variables)\n",
    "    optimizer.apply_gradients(zip(grads, model.trainable_variables))\n",
    "    return loss\n",
    "\n",
    "def train(steps, model, optimizer):\n",
    "    loss = 0.0\n",
    "    accuracy = 0.0\n",
    "    for step in range(steps):\n",
    "        datas = gen_data_batch(batch_size=200, start=0, end=555555555)\n",
    "        Nums1, Nums2, results = prepare_batch(*datas, maxlen=11)\n",
    "        loss = train_one_step(model, optimizer, tf.constant(Nums1, dtype=tf.int32), \n",
    "                              tf.constant(Nums2, dtype=tf.int32),\n",
    "                              tf.constant(results, dtype=tf.int32))\n",
    "        if step%50 == 0:\n",
    "            print('step', step, ': loss', loss.numpy())\n",
    "\n",
    "    return loss\n",
    "\n",
    "def evaluate(model):\n",
    "    datas = gen_data_batch(batch_size=2000, start=555555555, end=999999999)\n",
    "    Nums1, Nums2, results = prepare_batch(*datas, maxlen=11)\n",
    "    logits = model(tf.constant(Nums1, dtype=tf.int32), tf.constant(Nums2, dtype=tf.int32))\n",
    "    logits = logits.numpy()\n",
    "    pred = np.argmax(logits, axis=-1)\n",
    "    res = results_converter(pred)\n",
    "    for o in list(zip(datas[2], res))[:20]:\n",
    "        print(o[0], o[1], o[0]==o[1])\n",
    "\n",
    "    print('accuracy is: %g' % np.mean([o[0]==o[1] for o in zip(datas[2], res)]))"
   ],
   "metadata": {
    "collapsed": false,
    "ExecuteTime": {
     "end_time": "2024-03-26T12:40:30.753932500Z",
     "start_time": "2024-03-26T12:40:30.737677400Z"
    }
   }
  },
  {
   "cell_type": "markdown",
   "source": [
    "# debug\n"
   ],
   "metadata": {
    "collapsed": false
   }
  },
  {
   "cell_type": "code",
   "execution_count": 5,
   "metadata": {
    "ExecuteTime": {
     "end_time": "2024-03-26T12:40:31.467026900Z",
     "start_time": "2024-03-26T12:40:31.451005700Z"
    }
   },
   "outputs": [],
   "source": [
    "optimizer = optimizers.Adam(0.001)\n",
    "model = myRNNModel()"
   ]
  },
  {
   "cell_type": "code",
   "execution_count": 6,
   "outputs": [
    {
     "name": "stdout",
     "output_type": "stream",
     "text": [
      "step 0 : loss 2.2927752\n",
      "step 50 : loss 1.6063211\n",
      "step 100 : loss 0.78042835\n",
      "step 150 : loss 0.1685956\n",
      "step 200 : loss 0.052303717\n",
      "step 250 : loss 0.026267314\n",
      "step 300 : loss 0.016118519\n",
      "step 350 : loss 0.010998107\n",
      "step 400 : loss 0.008122009\n",
      "step 450 : loss 0.006232918\n",
      "step 500 : loss 0.0049788794\n",
      "step 550 : loss 0.0040926435\n",
      "step 600 : loss 0.0033944207\n",
      "step 650 : loss 0.0029206637\n",
      "step 700 : loss 0.0024974202\n",
      "step 750 : loss 0.0021651238\n",
      "step 800 : loss 0.0018894647\n",
      "step 850 : loss 0.0016797826\n",
      "step 900 : loss 0.0014878002\n",
      "step 950 : loss 0.0013426476\n",
      "step 1000 : loss 0.0012000258\n",
      "step 1050 : loss 0.0010946338\n",
      "step 1100 : loss 0.0009924311\n",
      "step 1150 : loss 0.0009038817\n",
      "step 1200 : loss 0.0008355134\n",
      "step 1250 : loss 0.0007634427\n",
      "step 1300 : loss 0.00071054307\n",
      "step 1350 : loss 0.00065058214\n",
      "step 1400 : loss 0.0006112411\n",
      "step 1450 : loss 0.0005660771\n",
      "step 1500 : loss 0.000526121\n",
      "step 1550 : loss 0.0004930949\n",
      "step 1600 : loss 0.0004604103\n",
      "step 1650 : loss 0.00043359774\n",
      "step 1700 : loss 0.0004031518\n",
      "step 1750 : loss 0.00038304258\n",
      "step 1800 : loss 0.00035912447\n",
      "step 1850 : loss 0.00033532814\n",
      "step 1900 : loss 0.00031808834\n",
      "step 1950 : loss 0.0003052479\n",
      "step 2000 : loss 0.00028694991\n",
      "step 2050 : loss 0.00026937213\n",
      "step 2100 : loss 0.00025893416\n",
      "step 2150 : loss 0.00024336476\n",
      "step 2200 : loss 0.00023317369\n",
      "step 2250 : loss 0.00022057355\n",
      "step 2300 : loss 0.00020797447\n",
      "step 2350 : loss 0.00020062373\n",
      "step 2400 : loss 0.00019153961\n",
      "step 2450 : loss 0.0001814206\n",
      "step 2500 : loss 0.00017461636\n",
      "step 2550 : loss 0.00016553773\n",
      "step 2600 : loss 0.0001578512\n",
      "step 2650 : loss 0.00015138494\n",
      "step 2700 : loss 0.00014565382\n",
      "step 2750 : loss 0.00014019004\n",
      "step 2800 : loss 0.00013351215\n",
      "step 2850 : loss 0.00012826856\n",
      "step 2900 : loss 0.0001231813\n",
      "step 2950 : loss 0.00011752324\n",
      "1325633048 1325633048 True\n",
      "1600249441 1600249441 True\n",
      "1755611542 1755611542 True\n",
      "1358828346 1358828346 True\n",
      "1950480410 1950480410 True\n",
      "1649862826 1649862826 True\n",
      "1566228353 1566228353 True\n",
      "1412892224 1412892224 True\n",
      "1662661712 1662661712 True\n",
      "1588947571 1588947571 True\n",
      "1549680851 1549680851 True\n",
      "1838962657 1838962657 True\n",
      "1759679859 1759679859 True\n",
      "1604694884 1604694884 True\n",
      "1317785513 1317785513 True\n",
      "1442304386 1442304386 True\n",
      "1390260449 1390260449 True\n",
      "1574419335 1574419335 True\n",
      "1671902557 1671902557 True\n",
      "1736896416 1736896416 True\n",
      "accuracy is: 1\n"
     ]
    }
   ],
   "source": [
    "train(3000, model, optimizer)\n",
    "evaluate(model)"
   ],
   "metadata": {
    "collapsed": false,
    "ExecuteTime": {
     "end_time": "2024-03-26T12:41:14.618351500Z",
     "start_time": "2024-03-26T12:40:31.677905100Z"
    }
   }
  },
  {
   "cell_type": "code",
   "execution_count": null,
   "metadata": {},
   "outputs": [],
   "source": []
  },
  {
   "cell_type": "code",
   "execution_count": null,
   "metadata": {},
   "outputs": [],
   "source": []
  },
  {
   "cell_type": "code",
   "execution_count": null,
   "metadata": {
    "collapsed": true
   },
   "outputs": [],
   "source": []
  }
 ],
 "metadata": {
  "kernelspec": {
   "display_name": "Python 3",
   "language": "python",
   "name": "python3"
  },
  "language_info": {
   "codemirror_mode": {
    "name": "ipython",
    "version": 3
   },
   "file_extension": ".py",
   "mimetype": "text/x-python",
   "name": "python",
   "nbconvert_exporter": "python",
   "pygments_lexer": "ipython3",
   "version": "3.7.0"
  }
 },
 "nbformat": 4,
 "nbformat_minor": 2
}
